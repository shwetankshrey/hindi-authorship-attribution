{
 "cells": [
  {
   "cell_type": "code",
   "execution_count": 33,
   "metadata": {},
   "outputs": [],
   "source": [
    "import pickle\n",
    "\n",
    "files = [\"bhairav\", \"dharamveer\", \"premchand\", \"sharatchandra\", \"vibhooti\"]\n",
    "\n",
    "for file_name in files:\n",
    "    file = open(\"../authors/\" + file_name + \".txt\")\n",
    "    text = file.read()\n",
    "    file.close()\n",
    "    \n",
    "    split_text = []\n",
    "    \n",
    "    sents = text.replace(\"?\", \"।\")\n",
    "    sents = text.replace(\"!\", \"।\")\n",
    "    sents = text.split(\"।\")\n",
    "    count = 0\n",
    "    text_piece = \"\"\n",
    "    \n",
    "    for sent in sents:\n",
    "        text_piece = text_piece + sent + \"।\"\n",
    "        count += 1\n",
    "        if count == 25:\n",
    "            split_text.append(text_piece)\n",
    "            text_piece = \"\"\n",
    "            count = 0\n",
    "            \n",
    "    pickle_file = open(\"../pickles/author_splits/\" + file_name + \".pkl\" , \"wb\")\n",
    "    pickle.dump(split_text, pickle_file)\n",
    "    pickle_file.close()\n"
   ]
  },
  {
   "cell_type": "code",
   "execution_count": null,
   "metadata": {},
   "outputs": [],
   "source": []
  }
 ],
 "metadata": {
  "kernelspec": {
   "display_name": "Python 3",
   "language": "python",
   "name": "python3"
  },
  "language_info": {
   "codemirror_mode": {
    "name": "ipython",
    "version": 3
   },
   "file_extension": ".py",
   "mimetype": "text/x-python",
   "name": "python",
   "nbconvert_exporter": "python",
   "pygments_lexer": "ipython3",
   "version": "3.7.0"
  }
 },
 "nbformat": 4,
 "nbformat_minor": 2
}
