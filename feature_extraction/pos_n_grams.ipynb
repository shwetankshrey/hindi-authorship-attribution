{
 "cells": [
  {
   "cell_type": "code",
   "execution_count": 1,
   "metadata": {},
   "outputs": [],
   "source": [
    "import pickle\n",
    "import nltk\n",
    "\n",
    "tnt_pos = nltk.tag.tnt.TnT()\n",
    "train_data = nltk.corpus.indian.tagged_sents('hindi.pos')\n",
    "tnt_pos.train(train_data)"
   ]
  },
  {
   "cell_type": "code",
   "execution_count": null,
   "metadata": {},
   "outputs": [],
   "source": [
    "files = [\"bhairav\", \"dharamveer\", \"premchand\", \"sharatchandra\", \"vibhooti\"]\n",
    "n = 1\n",
    "\n",
    "pos_ngram_frequency = []\n",
    "pos_author = []\n",
    "\n",
    "for file_name in files:\n",
    "    pickle_file = open(\"../pickles/author_splits/\" + file_name + \".pkl\" , \"rb\")\n",
    "    split_text = pickle.load(pickle_file)\n",
    "    pickle_file.close()\n",
    "    \n",
    "    for text in split_text:\n",
    "        text = text.replace('।','')\n",
    "        text = text.replace('.','')\n",
    "        text = text.replace(',','')\n",
    "        text = text.replace(':','')\n",
    "        text = text.replace(';','')\n",
    "        text = text.replace('?','')\n",
    "        text = text.replace('!','')\n",
    "        text = text.replace('-','')\n",
    "        text = text.replace(\"’\",\"\")\n",
    "        text = text.replace(\"''\",\"\")\n",
    "        text = text.replace('\"','')\n",
    "        \n",
    "        tokens = nltk.word_tokenize(text)\n",
    "        tagged = tnt_pos.tag(tokens)\n",
    "        pos_tokens = list(tag[1] for tag in tagged)\n",
    "        grams = nltk.ngrams(pos_tokens, n)\n",
    "        pos_ngram_frequency.append(dict(nltk.FreqDist(grams)))\n",
    "        pos_author.append(file_name)\n",
    "        \n",
    "corpus_ngram_frequency = {}\n",
    "\n",
    "for ngf in pos_ngram_frequency:\n",
    "    for ng in ngf.keys():\n",
    "        if ng not in corpus_ngram_frequency:\n",
    "            corpus_ngram_frequency[ng] = 0\n",
    "        corpus_ngram_frequency[ng] += ngf[ng]\n",
    "\n",
    "corpus_ngram_frequency = dict(sorted(corpus_ngram_frequency.items(), key=lambda x:x[1], reverse=True)[:500])"
   ]
  },
  {
   "cell_type": "code",
   "execution_count": null,
   "metadata": {},
   "outputs": [],
   "source": [
    "pos_frequencies = []\n",
    "\n",
    "for ngf in pos_ngram_frequency:\n",
    "    ng_freq_list = []\n",
    "    for ng in corpus_ngram_frequency.keys():\n",
    "        if ng in ngf:\n",
    "            ng_freq_list.append(ngf[ng])\n",
    "        else:\n",
    "            ng_freq_list.append(0)\n",
    "    pos_frequencies.append(ng_freq_list)\n",
    "\n",
    "feature_vector = [pos_author, pos_frequencies]"
   ]
  },
  {
   "cell_type": "code",
   "execution_count": null,
   "metadata": {},
   "outputs": [],
   "source": [
    "pickle_file = open(\"../pickles/feature_vectors/pos_n_grams/\" + str(n) + \"grams.pkl\" , \"wb\")\n",
    "pickle.dump(feature_vector, pickle_file)\n",
    "pickle_file.close()"
   ]
  },
  {
   "cell_type": "code",
   "execution_count": null,
   "metadata": {},
   "outputs": [],
   "source": []
  }
 ],
 "metadata": {
  "kernelspec": {
   "display_name": "Python 3",
   "language": "python",
   "name": "python3"
  },
  "language_info": {
   "codemirror_mode": {
    "name": "ipython",
    "version": 3
   },
   "file_extension": ".py",
   "mimetype": "text/x-python",
   "name": "python",
   "nbconvert_exporter": "python",
   "pygments_lexer": "ipython3",
   "version": "3.7.0"
  }
 },
 "nbformat": 4,
 "nbformat_minor": 2
}
