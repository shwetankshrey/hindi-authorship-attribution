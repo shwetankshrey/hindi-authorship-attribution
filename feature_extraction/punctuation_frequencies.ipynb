{
 "cells": [
  {
   "cell_type": "code",
   "execution_count": 1,
   "metadata": {},
   "outputs": [],
   "source": [
    "import pickle\n",
    "import nltk\n",
    "\n",
    "files = [\"bhairav\", \"dharamveer\", \"premchand\", \"sharatchandra\", \"vibhooti\"]\n",
    "\n",
    "piece_frequencies = []\n",
    "piece_author = []\n",
    "\n",
    "for file_name in files:\n",
    "    pickle_file = open(\"../pickles/author_splits/\" + file_name + \".pkl\" , \"rb\")\n",
    "    split_text = pickle.load(pickle_file)\n",
    "    pickle_file.close()\n",
    "    \n",
    "    for text in split_text:\n",
    "        punctuation_frequency = [0] * 11\n",
    "        punctuation_frequency[0] = text.count('।')\n",
    "        punctuation_frequency[1] = text.count('.')\n",
    "        punctuation_frequency[2] = text.count(',')\n",
    "        punctuation_frequency[3] = text.count(':')\n",
    "        punctuation_frequency[4] = text.count(';')\n",
    "        punctuation_frequency[5] = text.count('?')\n",
    "        punctuation_frequency[6] = text.count('!')\n",
    "        punctuation_frequency[7] = text.count('-')\n",
    "        punctuation_frequency[8] = text.count(\"’\")\n",
    "        punctuation_frequency[9] = text.count(\"'\")\n",
    "        punctuation_frequency[10] = text.count('\"')\n",
    "        \n",
    "        piece_frequencies.append(punctuation_frequency)\n",
    "        piece_author.append(file_name)\n",
    "        \n",
    "feature_vector = [piece_author, piece_frequencies]"
   ]
  },
  {
   "cell_type": "code",
   "execution_count": 2,
   "metadata": {},
   "outputs": [],
   "source": [
    "pickle_file = open(\"../pickles/feature_vectors/punctuation/punctuation.pkl\" , \"wb\")\n",
    "pickle.dump(feature_vector, pickle_file)\n",
    "pickle_file.close()"
   ]
  },
  {
   "cell_type": "code",
   "execution_count": null,
   "metadata": {},
   "outputs": [],
   "source": []
  }
 ],
 "metadata": {
  "kernelspec": {
   "display_name": "Python 3",
   "language": "python",
   "name": "python3"
  },
  "language_info": {
   "codemirror_mode": {
    "name": "ipython",
    "version": 3
   },
   "file_extension": ".py",
   "mimetype": "text/x-python",
   "name": "python",
   "nbconvert_exporter": "python",
   "pygments_lexer": "ipython3",
   "version": "3.7.0"
  }
 },
 "nbformat": 4,
 "nbformat_minor": 2
}
