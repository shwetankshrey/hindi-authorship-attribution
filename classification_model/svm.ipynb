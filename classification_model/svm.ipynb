{
 "cells": [
  {
   "cell_type": "code",
   "execution_count": 1,
   "metadata": {},
   "outputs": [],
   "source": [
    "features = [\"character_n_grams/1grams.pkl\", \"character_n_grams/2grams.pkl\", \"character_n_grams/3grams.pkl\", \"character_n_grams/4grams.pkl\", \n",
    "            \"n_grams/1grams.pkl\", \"n_grams/2grams.pkl\", \"n_grams/3grams.pkl\", \"n_grams/4grams.pkl\", \n",
    "            \"punctuation_frequencies/punctuation_frequencies.pkl\", \"sentence_length/sentence_length.pkl\", \n",
    "            \"word_length/word_length.pkl\"]"
   ]
  },
  {
   "cell_type": "code",
   "execution_count": null,
   "metadata": {},
   "outputs": [],
   "source": []
  }
 ],
 "metadata": {
  "kernelspec": {
   "display_name": "Python 3",
   "language": "python",
   "name": "python3"
  },
  "language_info": {
   "codemirror_mode": {
    "name": "ipython",
    "version": 3
   },
   "file_extension": ".py",
   "mimetype": "text/x-python",
   "name": "python",
   "nbconvert_exporter": "python",
   "pygments_lexer": "ipython3",
   "version": "3.7.0"
  }
 },
 "nbformat": 4,
 "nbformat_minor": 2
}
